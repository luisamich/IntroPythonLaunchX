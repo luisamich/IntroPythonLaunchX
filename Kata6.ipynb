{
 "cells": [
  {
   "cell_type": "code",
   "execution_count": 2,
   "metadata": {},
   "outputs": [
    {
     "name": "stdout",
     "output_type": "stream",
     "text": [
      "There are 8 planets\n",
      "Pluto is the last planet\n"
     ]
    }
   ],
   "source": [
    "# Creamos la lista planets y la mostramos\n",
    "\n",
    "planets = ['Mercury', 'Venus', 'Earth', 'Mars', 'Jupiter', 'Saturn', 'Uranus', 'Neptune']\n",
    "\n",
    "print('There are', len(planets), 'planets')\n",
    "\n",
    "# Agregamos a plutón y mostramos el último elemento\n",
    "\n",
    "planets.append('Pluto')\n",
    "\n",
    "print(planets[-1], 'is the last planet')"
   ]
  },
  {
   "cell_type": "code",
   "execution_count": 3,
   "metadata": {},
   "outputs": [
    {
     "name": "stdout",
     "output_type": "stream",
     "text": [
      "Here are the planets closer than Mars\n",
      "['Mercury', 'Venus', 'Earth']\n",
      "Here are the planets further than Mars\n",
      "['Jupiter', 'Saturn', 'Neptune']\n"
     ]
    }
   ],
   "source": [
    "planets = ['Mercury', 'Venus', 'Earth', 'Mars', 'Jupiter', 'Saturn', 'Neptune']\n",
    "user_planet = input('Please enter the name of the planet (with a capital letter to start)')\n",
    "planet_index = planets.index(user_planet)\n",
    "print('Here are the planets closer than ' + user_planet)\n",
    "print(planets[0:planet_index])\n",
    "\n",
    "print('Here are the planets further than ' + user_planet)\n",
    "print(planets[planet_index + 1:])"
   ]
  }
 ],
 "metadata": {
  "interpreter": {
   "hash": "10e7ef0ac70ba9edcaa798ca70685aa2ffc54f0a8e5ce583a407b75739003b7e"
  },
  "kernelspec": {
   "display_name": "Python 3.9.7 64-bit",
   "language": "python",
   "name": "python3"
  },
  "language_info": {
   "codemirror_mode": {
    "name": "ipython",
    "version": 3
   },
   "file_extension": ".py",
   "mimetype": "text/x-python",
   "name": "python",
   "nbconvert_exporter": "python",
   "pygments_lexer": "ipython3",
   "version": "3.9.7"
  },
  "orig_nbformat": 4
 },
 "nbformat": 4,
 "nbformat_minor": 2
}
