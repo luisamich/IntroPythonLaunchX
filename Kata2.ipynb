{
 "cells": [
  {
   "cell_type": "code",
   "execution_count": 1,
   "metadata": {},
   "outputs": [
    {
     "name": "stdout",
     "output_type": "stream",
     "text": [
      "2022-02-19 01:53:54.679421\n",
      "2022-03-26 10:53:54.679421\n"
     ]
    }
   ],
   "source": [
    "from datetime import *\n",
    "from dateutil.relativedelta import *\n",
    "now = datetime.now()\n",
    "print(now)\n",
    "\n",
    "now = now + relativedelta(months=1, weeks=1, hour=10)\n",
    "\n",
    "print(now)"
   ]
  }
 ],
 "metadata": {
  "interpreter": {
   "hash": "10e7ef0ac70ba9edcaa798ca70685aa2ffc54f0a8e5ce583a407b75739003b7e"
  },
  "kernelspec": {
   "display_name": "Python 3.9.7 64-bit",
   "language": "python",
   "name": "python3"
  },
  "language_info": {
   "codemirror_mode": {
    "name": "ipython",
    "version": 3
   },
   "file_extension": ".py",
   "mimetype": "text/x-python",
   "name": "python",
   "nbconvert_exporter": "python",
   "pygments_lexer": "ipython3",
   "version": "3.9.7"
  },
  "orig_nbformat": 4
 },
 "nbformat": 4,
 "nbformat_minor": 2
}
